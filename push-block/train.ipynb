{
 "cells": [
  {
   "cell_type": "markdown",
   "execution_count": null,
   "metadata": {
    "colab_type": "text",
    "id": "LN0nZwyMGadB"
   },
   "outputs": [],
   "source": [
    "# Traning Agent with DDQN\n",
    "\n",
    "## Step 1: Import the libraries"
   ]
  },
  {
   "cell_type": "code",
   "execution_count": null,
   "metadata": {},
   "outputs": [],
   "source": [
    "import time\n",
    "import random\n",
    "import math\n",
    "from collections import deque\n",
    "\n",
    "import numpy as np\n",
    "from IPython.display import clear_output\n",
    "import matplotlib.pyplot as plt\n",
    "import torch\n",
    "\n",
    "from gym_unity.envs import UnityEnv"
   ]
  },
  {
   "cell_type": "code",
   "execution_count": null,
   "metadata": {},
   "outputs": [],
   "source": [
    "from ddqn_agent import DDQNAgent\n",
    "from model import DDQNLinear"
   ]
  },
  {
   "cell_type": "markdown",
   "execution_count": null,
   "metadata": {
    "colab_type": "text",
    "id": "tfo8jleHGadK"
   },
   "outputs": [],
   "source": [
    "## Step 2: Create our environment\n",
    "\n",
    "Initialize the environment in the code cell below.\n"
   ]
  },
  {
   "cell_type": "code",
   "execution_count": null,
   "metadata": {},
   "outputs": [],
   "source": [
    "ENV_PATH = '../unity_envs/PushBlock/'\n",
    "ENV_NAME = 'Unity Environment'\n",
    "env = UnityEnv(ENV_PATH + ENV_NAME, worker_id=0, multiagent=True, no_graphics=True)"
   ]
  },
  {
   "cell_type": "code",
   "execution_count": null,
   "metadata": {},
   "outputs": [],
   "source": [
    "# if gpu is to be used\n",
    "device = torch.device(\"cuda\" if torch.cuda.is_available() else \"cpu\")\n",
    "print(\"Device: \", device)"
   ]
  },
  {
   "cell_type": "markdown",
   "execution_count": null,
   "metadata": {
    "colab_type": "text",
    "id": "nS221MgXGadP"
   },
   "outputs": [],
   "source": [
    "## Step 3: Viewing our Enviroment"
   ]
  },
  {
   "cell_type": "code",
   "execution_count": null,
   "metadata": {},
   "outputs": [],
   "source": [
    "print(\"The size of state is: \", env.observation_space.shape[0])\n",
    "print(\"No. of Actions: \", env.action_space)"
   ]
  },
  {
   "cell_type": "markdown",
   "execution_count": null,
   "metadata": {},
   "outputs": [],
   "source": [
    "## Step 4: Creating our Agent"
   ]
  },
  {
   "cell_type": "code",
   "execution_count": null,
   "metadata": {},
   "outputs": [],
   "source": [
    "STATE_SIZE = env.observation_space.shape[0]\n",
    "ACTION_SIZE = 7\n",
    "GAMMA = 0.99                # discount factor\n",
    "BUFFER_SIZE = int(1e6)      # replay buffer size\n",
    "BATCH_SIZE = 256            # Update batch size\n",
    "LR = 1e-3                   # learning rate \n",
    "TAU = 1e-3                  # for soft update of target parameters\n",
    "UPDATE_EVERY = 20           # how often to update the network \n",
    "\n",
    "agent = DDQNAgent(STATE_SIZE, ACTION_SIZE, BUFFER_SIZE, BATCH_SIZE, GAMMA, LR, TAU, UPDATE_EVERY, device)"
   ]
  },
  {
   "cell_type": "markdown",
   "execution_count": null,
   "metadata": {},
   "outputs": [],
   "source": [
    "## Step 5: Creating Helper Function\n",
    "\n",
    "### Eplision Helper Function"
   ]
  },
  {
   "cell_type": "code",
   "execution_count": null,
   "metadata": {},
   "outputs": [],
   "source": [
    "EPS_START = 0.99       # starting value of epsilon\n",
    "EPS_END = 0.01         # Ending value of epsilon\n",
    "EPS_DECAY = 200        # Rate by which epsilon to be decayed\n",
    "\n",
    "epsilon_by_epsiode = lambda frame_idx: EPS_END + (EPS_START - EPS_END) * math.exp(-1. * frame_idx / EPS_DECAY)\n",
    "\n",
    "plt.plot([epsilon_by_epsiode(i) for i in range(2000)])\n",
    "plt.show()"
   ]
  },
  {
   "cell_type": "markdown",
   "execution_count": null,
   "metadata": {},
   "outputs": [],
   "source": [
    "### Plot Traning"
   ]
  },
  {
   "cell_type": "code",
   "execution_count": null,
   "metadata": {},
   "outputs": [],
   "source": [
    "def plot_result(scores):\n",
    "    fig = plt.figure()\n",
    "    ax = fig.add_subplot(111)\n",
    "    plt.plot(np.arange(len(scores)), scores)\n",
    "    plt.ylabel('Score')\n",
    "    plt.xlabel('Episode #')\n",
    "    plt.show()\n"
   ]
  },
  {
   "cell_type": "markdown",
   "execution_count": null,
   "metadata": {},
   "outputs": [],
   "source": [
    "## Step 6: Train the Agent with DQN"
   ]
  },
  {
   "cell_type": "code",
   "execution_count": null,
   "metadata": {},
   "outputs": [],
   "source": [
    "def train(n_episodes, max_steps, scores_average_window, benchmark_reward):\n",
    "    \"\"\"\n",
    "    Params\n",
    "    ======\n",
    "        n_episodes (int): maximum number of training episodes\n",
    "        benchmark_reward (float): benchmark reward at which environment is solved.\n",
    "    \"\"\"\n",
    "    scores = []\n",
    "    scores_window = deque(maxlen=scores_average_window)\n",
    "    for i_episode in range(1, n_episodes+1):\n",
    "        states = np.array(env.reset())\n",
    "        score = np.zeros(32)\n",
    "        eps = epsilon_by_epsiode(i_episode)\n",
    "        for step in range(max_steps):\n",
    "            actions = agent.act(states, eps)\n",
    "            next_states, rewards, dones, _ = env.step(actions.tolist())\n",
    "            score += rewards\n",
    "            agent.step(states, actions, rewards, next_states, dones)\n",
    "            if np.any(dones):\n",
    "                break\n",
    "            else:\n",
    "                states = np.array(next_states)\n",
    "        scores_window.append(np.mean(score))       # save most recent score\n",
    "        scores.append(np.mean(score))              # save most recent score\n",
    "        \n",
    "        # printing and ploting results\n",
    "        clear_output(wait=True)\n",
    "        plot_result(scores)\n",
    "        print('\\rEpisode {}\\tAverage Score: {:.2f}\\tEplision: {:.3f}'.format(i_episode, np.mean(scores_window), eps))\n",
    "        \n",
    "        if float(np.mean(scores_window)) >= benchmark_reward:\n",
    "            agent.save_model(\"pushblock_solved.pth\", scores)\n",
    "            print(\"Yah Environment is solved :)\")\n",
    "            break\n",
    "    \n",
    "    return scores"
   ]
  },
  {
   "cell_type": "code",
   "execution_count": null,
   "metadata": {},
   "outputs": [],
   "source": [
    "BENCHMARK_REWARD = 4.3\n",
    "SCORES_AVERAGE_WINDOW = 100\n",
    "NUM_EPISODES = 2000\n",
    "MAX_STEPS = 3000\n",
    "\n",
    "scores = train(NUM_EPISODES, MAX_STEPS, SCORES_AVERAGE_WINDOW, BENCHMARK_REWARD)\n",
    "print(\"Done Training\")"
   ]
  },
  {
   "cell_type": "code",
   "execution_count": null,
   "metadata": {},
   "outputs": [],
   "source": [
    "env.close()"
   ]
  }
 ],
 "metadata": {
  "accelerator": "GPU",
  "colab": {
   "collapsed_sections": [],
   "name": "space_invader.ipynb",
   "provenance": [],
   "toc_visible": true
  },
  "kernelspec": {
   "display_name": "Python 3.7.6 64-bit ('ai': conda)",
   "language": "python",
   "name": "python37664bitaicondac0e8880bb07b42c396c674eb5a2d8b93"
  },
  "language_info": {
   "codemirror_mode": {
    "name": "ipython",
    "version": 3
   },
   "file_extension": ".py",
   "mimetype": "text/x-python",
   "name": "python",
   "nbconvert_exporter": "python",
   "pygments_lexer": "ipython3",
   "version": "3.7.6-final"
  }
 },
 "nbformat": 4,
 "nbformat_minor": 1
}