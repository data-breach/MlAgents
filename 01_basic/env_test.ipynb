{
 "nbformat": 4,
 "nbformat_minor": 2,
 "metadata": {
  "language_info": {
   "name": "python",
   "codemirror_mode": {
    "name": "ipython",
    "version": 3
   },
   "version": "3.7.6-final"
  },
  "orig_nbformat": 2,
  "file_extension": ".py",
  "mimetype": "text/x-python",
  "name": "python",
  "npconvert_exporter": "python",
  "pygments_lexer": "ipython3",
  "version": 3,
  "kernelspec": {
   "name": "python37664bitaicondac0e8880bb07b42c396c674eb5a2d8b93",
   "display_name": "Python 3.7.6 64-bit ('ai': conda)"
  }
 },
 "cells": [
  {
   "cell_type": "markdown",
   "execution_count": null,
   "metadata": {},
   "outputs": [],
   "source": [
    "# Testing Basic Environment\n",
    "## Step 1: Importing Libaries"
   ]
  },
  {
   "cell_type": "code",
   "execution_count": 1,
   "metadata": {},
   "outputs": [],
   "source": [
    "\n",
    "import matplotlib.pyplot as plt\n",
    "import numpy as np\n",
    "import sys\n",
    "\n",
    "from gym_unity.envs import UnityEnv\n",
    "\n",
    "%matplotlib inline"
   ]
  },
  {
   "cell_type": "markdown",
   "execution_count": null,
   "metadata": {},
   "outputs": [],
   "source": [
    "## Step 2: Creating the environment"
   ]
  },
  {
   "cell_type": "code",
   "execution_count": 2,
   "metadata": {},
   "outputs": [
    {
     "name": "stderr",
     "output_type": "stream",
     "text": "INFO:mlagents_envs:Connected new brain:\nBasic?team=0\nINFO:gym_unity:1 agents within environment.\n"
    }
   ],
   "source": [
    "ENV_PATH = '../unity_envs/Basic/'\n",
    "ENV_NAME = 'Unity Environment'\n",
    "env = UnityEnv(ENV_PATH + ENV_NAME, worker_id=0)"
   ]
  },
  {
   "cell_type": "markdown",
   "execution_count": null,
   "metadata": {},
   "outputs": [],
   "source": [
    "## Step 3: Examine the observation space"
   ]
  },
  {
   "cell_type": "code",
   "execution_count": 3,
   "metadata": {},
   "outputs": [
    {
     "name": "stdout",
     "output_type": "stream",
     "text": "Agent observations look like: \n0.0\n"
    }
   ],
   "source": [
    "# Reset the environment\n",
    "initial_observations = env.reset()\n",
    "\n",
    "if len(env.observation_space.shape) == 1:\n",
    "    # Examine the initial vector observation\n",
    "    print(\"Agent observations look like: \\n{}\".format(initial_observations[0]))\n",
    "else:\n",
    "    # Examine the initial visual observation\n",
    "    print(\"Agent observations look like:\")\n",
    "    if env.observation_space.shape[2] == 3:\n",
    "        plt.imshow(initial_observations[0][:,:,:])\n",
    "    else:\n",
    "        plt.imshow(initial_observations[0][:,:,0])"
   ]
  },
  {
   "cell_type": "markdown",
   "execution_count": null,
   "metadata": {},
   "outputs": [],
   "source": [
    "## Step 4: Take random steps in the environment"
   ]
  },
  {
   "cell_type": "code",
   "execution_count": 4,
   "metadata": {},
   "outputs": [
    {
     "name": "stderr",
     "output_type": "stream",
     "text": "INFO:mlagents_envs:Environment shut down with return code 0 (CTRL_C_EVENT).\n"
    }
   ],
   "source": [
    "env.reset()\n",
    "score = 0\n",
    "episode_rewards = 0\n",
    "for episode in range(10):\n",
    "    state, reward, done, _ = env.step(env.action_space.sample())\n",
    "    episode_rewards += reward\n",
    "    if done:\n",
    "        print(\"Total reward this episode: {.3f}\".format(episode_rewards))\n",
    "        break\n",
    "env.close()"
   ]
  }
 ]
}